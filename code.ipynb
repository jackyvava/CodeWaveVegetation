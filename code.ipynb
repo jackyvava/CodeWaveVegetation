{
 "cells": [
  {
   "cell_type": "code",
   "execution_count": 1,
   "metadata": {},
   "outputs": [],
   "source": [
    "import numpy as np\n",
    "import matplotlib.pyplot as plt\n",
    "import pandas as pd\n",
    "import math"
   ]
  },
  {
   "cell_type": "code",
   "execution_count": 2,
   "metadata": {},
   "outputs": [],
   "source": [
    "plt.rcParams['font.sans-serif'] = ['SimHei']  # 用来正常显示中文标签\n",
    "plt.rcParams['axes.unicode_minus'] = False  # 用来正常显示负号\n",
    "pd.set_option('display.max_columns', None)# 显示所有列\n",
    "pd.set_option('display.max_rows', 200) # 最多显示200行"
   ]
  },
  {
   "cell_type": "code",
   "execution_count": 54,
   "metadata": {},
   "outputs": [
    {
     "data": {
      "text/html": [
       "<div>\n",
       "<style scoped>\n",
       "    .dataframe tbody tr th:only-of-type {\n",
       "        vertical-align: middle;\n",
       "    }\n",
       "\n",
       "    .dataframe tbody tr th {\n",
       "        vertical-align: top;\n",
       "    }\n",
       "\n",
       "    .dataframe thead th {\n",
       "        text-align: right;\n",
       "    }\n",
       "</style>\n",
       "<table border=\"1\" class=\"dataframe\">\n",
       "  <thead>\n",
       "    <tr style=\"text-align: right;\">\n",
       "      <th></th>\n",
       "      <th>X</th>\n",
       "      <th>Y</th>\n",
       "      <th>Height</th>\n",
       "    </tr>\n",
       "  </thead>\n",
       "  <tbody>\n",
       "    <tr>\n",
       "      <th>0</th>\n",
       "      <td>0</td>\n",
       "      <td>0</td>\n",
       "      <td>3.53613</td>\n",
       "    </tr>\n",
       "    <tr>\n",
       "      <th>1</th>\n",
       "      <td>10</td>\n",
       "      <td>0</td>\n",
       "      <td>2.40798</td>\n",
       "    </tr>\n",
       "    <tr>\n",
       "      <th>2</th>\n",
       "      <td>20</td>\n",
       "      <td>0</td>\n",
       "      <td>2.41513</td>\n",
       "    </tr>\n",
       "    <tr>\n",
       "      <th>3</th>\n",
       "      <td>30</td>\n",
       "      <td>0</td>\n",
       "      <td>2.42287</td>\n",
       "    </tr>\n",
       "    <tr>\n",
       "      <th>4</th>\n",
       "      <td>40</td>\n",
       "      <td>0</td>\n",
       "      <td>2.43089</td>\n",
       "    </tr>\n",
       "    <tr>\n",
       "      <th>...</th>\n",
       "      <td>...</td>\n",
       "      <td>...</td>\n",
       "      <td>...</td>\n",
       "    </tr>\n",
       "    <tr>\n",
       "      <th>956</th>\n",
       "      <td>260</td>\n",
       "      <td>3000</td>\n",
       "      <td>2.34882</td>\n",
       "    </tr>\n",
       "    <tr>\n",
       "      <th>957</th>\n",
       "      <td>270</td>\n",
       "      <td>3000</td>\n",
       "      <td>2.11383</td>\n",
       "    </tr>\n",
       "    <tr>\n",
       "      <th>958</th>\n",
       "      <td>280</td>\n",
       "      <td>3000</td>\n",
       "      <td>1.90717</td>\n",
       "    </tr>\n",
       "    <tr>\n",
       "      <th>959</th>\n",
       "      <td>290</td>\n",
       "      <td>3000</td>\n",
       "      <td>1.72221</td>\n",
       "    </tr>\n",
       "    <tr>\n",
       "      <th>960</th>\n",
       "      <td>300</td>\n",
       "      <td>3000</td>\n",
       "      <td>1.72682</td>\n",
       "    </tr>\n",
       "  </tbody>\n",
       "</table>\n",
       "<p>961 rows × 3 columns</p>\n",
       "</div>"
      ],
      "text/plain": [
       "       X     Y   Height\n",
       "0      0     0  3.53613\n",
       "1     10     0  2.40798\n",
       "2     20     0  2.41513\n",
       "3     30     0  2.42287\n",
       "4     40     0  2.43089\n",
       "..   ...   ...      ...\n",
       "956  260  3000  2.34882\n",
       "957  270  3000  2.11383\n",
       "958  280  3000  1.90717\n",
       "959  290  3000  1.72221\n",
       "960  300  3000  1.72682\n",
       "\n",
       "[961 rows x 3 columns]"
      ]
     },
     "execution_count": 54,
     "metadata": {},
     "output_type": "execute_result"
    }
   ],
   "source": [
    "data = pd.read_csv(\"modelData/vegtation0.csv\")\n",
    "data"
   ]
  },
  {
   "cell_type": "code",
   "execution_count": 55,
   "metadata": {},
   "outputs": [],
   "source": [
    "l0=data['Height'][:31]   \n",
    "l0[30] = l0[29]\n",
    "\n",
    "l1=data['Height'][31:62]   \n",
    "# l1[30] = l0[29]\n",
    "l2=data['Height'][31*2:31*3]\n",
    "l3=data['Height'][31*3:31*4]\n",
    "l4=data['Height'][31*4:31*5]\n",
    "l5=data['Height'][31*5:31*6]\n",
    "l6=data['Height'][31*6:31*7]\n",
    "l7=data['Height'][31*7:31*8]\n",
    "l8=data['Height'][31*8:31*9]\n",
    "l9=data['Height'][31*9:31*10]\n",
    "l10=data['Height'][31*10:31*11]\n",
    "l11=data['Height'][31*11:31*12]\n",
    "l12=data['Height'][31*12:31*13]\n",
    "l13=data['Height'][31*13:31*14]\n",
    "l14=data['Height'][31*14:31*15]\n",
    "l15=data['Height'][31*15:31*16]\n",
    "l16=data['Height'][31*16:31*17]\n",
    "l17=data['Height'][31*17:31*18]\n",
    "l18=data['Height'][31*18:31*19]\n",
    "l19=data['Height'][31*19:31*20]\n",
    "l20=data['Height'][31*20:31*21]\n",
    "l21=data['Height'][31*21:31*22]\n",
    "l22=data['Height'][31*22:31*23]\n",
    "l23=data['Height'][31*23:31*24]\n",
    "l24=data['Height'][31*24:31*25]\n",
    "l25=data['Height'][31*25:31*26]\n",
    "l26=data['Height'][31*26:31*27]\n",
    "l27=data['Height'][31*27:31*28]\n",
    "l28=data['Height'][31*28:31*29]\n",
    "l29=data['Height'][31*29:31*30]\n",
    "l30=data['Height'][31*30:31*31]\n",
    "\n"
   ]
  },
  {
   "cell_type": "code",
   "execution_count": null,
   "metadata": {},
   "outputs": [],
   "source": []
  },
  {
   "cell_type": "code",
   "execution_count": 56,
   "metadata": {},
   "outputs": [],
   "source": [
    "nx = 30 +1\n",
    "ny = 30 +1\n",
    "xlength = 300\n",
    "ylength = 3000 "
   ]
  },
  {
   "cell_type": "code",
   "execution_count": 57,
   "metadata": {},
   "outputs": [],
   "source": [
    "x = np.linspace(0,xlength, nx)\n",
    "y = np.linspace(0,ylength, ny)"
   ]
  },
  {
   "cell_type": "code",
   "execution_count": 58,
   "metadata": {},
   "outputs": [
    {
     "data": {
      "text/plain": [
       "(array([  0.,  10.,  20.,  30.,  40.,  50.,  60.,  70.,  80.,  90., 100.,\n",
       "        110., 120., 130., 140., 150., 160., 170., 180., 190., 200., 210.,\n",
       "        220., 230., 240., 250., 260., 270., 280., 290., 300.]),\n",
       " (31,),\n",
       " array([   0.,  100.,  200.,  300.,  400.,  500.,  600.,  700.,  800.,\n",
       "         900., 1000., 1100., 1200., 1300., 1400., 1500., 1600., 1700.,\n",
       "        1800., 1900., 2000., 2100., 2200., 2300., 2400., 2500., 2600.,\n",
       "        2700., 2800., 2900., 3000.]),\n",
       " (31,))"
      ]
     },
     "execution_count": 58,
     "metadata": {},
     "output_type": "execute_result"
    }
   ],
   "source": [
    "x,x.shape,y,y.shape"
   ]
  },
  {
   "cell_type": "code",
   "execution_count": 59,
   "metadata": {},
   "outputs": [
    {
     "data": {
      "text/plain": [
       "((31, 31), (31, 31))"
      ]
     },
     "execution_count": 59,
     "metadata": {},
     "output_type": "execute_result"
    }
   ],
   "source": [
    "X, Y = np.meshgrid(x, y)\n",
    "X.shape, Y.shape"
   ]
  },
  {
   "cell_type": "code",
   "execution_count": 60,
   "metadata": {},
   "outputs": [],
   "source": [
    "Z=(np.zeros(nx*ny).reshape(nx,ny)).T"
   ]
  },
  {
   "cell_type": "code",
   "execution_count": 61,
   "metadata": {},
   "outputs": [
    {
     "data": {
      "text/plain": [
       "(array([[0., 0., 0., 0., 0., 0., 0., 0., 0., 0., 0., 0., 0., 0., 0., 0.,\n",
       "         0., 0., 0., 0., 0., 0., 0., 0., 0., 0., 0., 0., 0., 0., 0.],\n",
       "        [0., 0., 0., 0., 0., 0., 0., 0., 0., 0., 0., 0., 0., 0., 0., 0.,\n",
       "         0., 0., 0., 0., 0., 0., 0., 0., 0., 0., 0., 0., 0., 0., 0.],\n",
       "        [0., 0., 0., 0., 0., 0., 0., 0., 0., 0., 0., 0., 0., 0., 0., 0.,\n",
       "         0., 0., 0., 0., 0., 0., 0., 0., 0., 0., 0., 0., 0., 0., 0.],\n",
       "        [0., 0., 0., 0., 0., 0., 0., 0., 0., 0., 0., 0., 0., 0., 0., 0.,\n",
       "         0., 0., 0., 0., 0., 0., 0., 0., 0., 0., 0., 0., 0., 0., 0.],\n",
       "        [0., 0., 0., 0., 0., 0., 0., 0., 0., 0., 0., 0., 0., 0., 0., 0.,\n",
       "         0., 0., 0., 0., 0., 0., 0., 0., 0., 0., 0., 0., 0., 0., 0.],\n",
       "        [0., 0., 0., 0., 0., 0., 0., 0., 0., 0., 0., 0., 0., 0., 0., 0.,\n",
       "         0., 0., 0., 0., 0., 0., 0., 0., 0., 0., 0., 0., 0., 0., 0.],\n",
       "        [0., 0., 0., 0., 0., 0., 0., 0., 0., 0., 0., 0., 0., 0., 0., 0.,\n",
       "         0., 0., 0., 0., 0., 0., 0., 0., 0., 0., 0., 0., 0., 0., 0.],\n",
       "        [0., 0., 0., 0., 0., 0., 0., 0., 0., 0., 0., 0., 0., 0., 0., 0.,\n",
       "         0., 0., 0., 0., 0., 0., 0., 0., 0., 0., 0., 0., 0., 0., 0.],\n",
       "        [0., 0., 0., 0., 0., 0., 0., 0., 0., 0., 0., 0., 0., 0., 0., 0.,\n",
       "         0., 0., 0., 0., 0., 0., 0., 0., 0., 0., 0., 0., 0., 0., 0.],\n",
       "        [0., 0., 0., 0., 0., 0., 0., 0., 0., 0., 0., 0., 0., 0., 0., 0.,\n",
       "         0., 0., 0., 0., 0., 0., 0., 0., 0., 0., 0., 0., 0., 0., 0.],\n",
       "        [0., 0., 0., 0., 0., 0., 0., 0., 0., 0., 0., 0., 0., 0., 0., 0.,\n",
       "         0., 0., 0., 0., 0., 0., 0., 0., 0., 0., 0., 0., 0., 0., 0.],\n",
       "        [0., 0., 0., 0., 0., 0., 0., 0., 0., 0., 0., 0., 0., 0., 0., 0.,\n",
       "         0., 0., 0., 0., 0., 0., 0., 0., 0., 0., 0., 0., 0., 0., 0.],\n",
       "        [0., 0., 0., 0., 0., 0., 0., 0., 0., 0., 0., 0., 0., 0., 0., 0.,\n",
       "         0., 0., 0., 0., 0., 0., 0., 0., 0., 0., 0., 0., 0., 0., 0.],\n",
       "        [0., 0., 0., 0., 0., 0., 0., 0., 0., 0., 0., 0., 0., 0., 0., 0.,\n",
       "         0., 0., 0., 0., 0., 0., 0., 0., 0., 0., 0., 0., 0., 0., 0.],\n",
       "        [0., 0., 0., 0., 0., 0., 0., 0., 0., 0., 0., 0., 0., 0., 0., 0.,\n",
       "         0., 0., 0., 0., 0., 0., 0., 0., 0., 0., 0., 0., 0., 0., 0.],\n",
       "        [0., 0., 0., 0., 0., 0., 0., 0., 0., 0., 0., 0., 0., 0., 0., 0.,\n",
       "         0., 0., 0., 0., 0., 0., 0., 0., 0., 0., 0., 0., 0., 0., 0.],\n",
       "        [0., 0., 0., 0., 0., 0., 0., 0., 0., 0., 0., 0., 0., 0., 0., 0.,\n",
       "         0., 0., 0., 0., 0., 0., 0., 0., 0., 0., 0., 0., 0., 0., 0.],\n",
       "        [0., 0., 0., 0., 0., 0., 0., 0., 0., 0., 0., 0., 0., 0., 0., 0.,\n",
       "         0., 0., 0., 0., 0., 0., 0., 0., 0., 0., 0., 0., 0., 0., 0.],\n",
       "        [0., 0., 0., 0., 0., 0., 0., 0., 0., 0., 0., 0., 0., 0., 0., 0.,\n",
       "         0., 0., 0., 0., 0., 0., 0., 0., 0., 0., 0., 0., 0., 0., 0.],\n",
       "        [0., 0., 0., 0., 0., 0., 0., 0., 0., 0., 0., 0., 0., 0., 0., 0.,\n",
       "         0., 0., 0., 0., 0., 0., 0., 0., 0., 0., 0., 0., 0., 0., 0.],\n",
       "        [0., 0., 0., 0., 0., 0., 0., 0., 0., 0., 0., 0., 0., 0., 0., 0.,\n",
       "         0., 0., 0., 0., 0., 0., 0., 0., 0., 0., 0., 0., 0., 0., 0.],\n",
       "        [0., 0., 0., 0., 0., 0., 0., 0., 0., 0., 0., 0., 0., 0., 0., 0.,\n",
       "         0., 0., 0., 0., 0., 0., 0., 0., 0., 0., 0., 0., 0., 0., 0.],\n",
       "        [0., 0., 0., 0., 0., 0., 0., 0., 0., 0., 0., 0., 0., 0., 0., 0.,\n",
       "         0., 0., 0., 0., 0., 0., 0., 0., 0., 0., 0., 0., 0., 0., 0.],\n",
       "        [0., 0., 0., 0., 0., 0., 0., 0., 0., 0., 0., 0., 0., 0., 0., 0.,\n",
       "         0., 0., 0., 0., 0., 0., 0., 0., 0., 0., 0., 0., 0., 0., 0.],\n",
       "        [0., 0., 0., 0., 0., 0., 0., 0., 0., 0., 0., 0., 0., 0., 0., 0.,\n",
       "         0., 0., 0., 0., 0., 0., 0., 0., 0., 0., 0., 0., 0., 0., 0.],\n",
       "        [0., 0., 0., 0., 0., 0., 0., 0., 0., 0., 0., 0., 0., 0., 0., 0.,\n",
       "         0., 0., 0., 0., 0., 0., 0., 0., 0., 0., 0., 0., 0., 0., 0.],\n",
       "        [0., 0., 0., 0., 0., 0., 0., 0., 0., 0., 0., 0., 0., 0., 0., 0.,\n",
       "         0., 0., 0., 0., 0., 0., 0., 0., 0., 0., 0., 0., 0., 0., 0.],\n",
       "        [0., 0., 0., 0., 0., 0., 0., 0., 0., 0., 0., 0., 0., 0., 0., 0.,\n",
       "         0., 0., 0., 0., 0., 0., 0., 0., 0., 0., 0., 0., 0., 0., 0.],\n",
       "        [0., 0., 0., 0., 0., 0., 0., 0., 0., 0., 0., 0., 0., 0., 0., 0.,\n",
       "         0., 0., 0., 0., 0., 0., 0., 0., 0., 0., 0., 0., 0., 0., 0.],\n",
       "        [0., 0., 0., 0., 0., 0., 0., 0., 0., 0., 0., 0., 0., 0., 0., 0.,\n",
       "         0., 0., 0., 0., 0., 0., 0., 0., 0., 0., 0., 0., 0., 0., 0.],\n",
       "        [0., 0., 0., 0., 0., 0., 0., 0., 0., 0., 0., 0., 0., 0., 0., 0.,\n",
       "         0., 0., 0., 0., 0., 0., 0., 0., 0., 0., 0., 0., 0., 0., 0.]]),\n",
       " (31, 31))"
      ]
     },
     "execution_count": 61,
     "metadata": {},
     "output_type": "execute_result"
    }
   ],
   "source": [
    "Z,Z.shape"
   ]
  },
  {
   "cell_type": "code",
   "execution_count": 65,
   "metadata": {},
   "outputs": [],
   "source": [
    "    \n",
    "Z[0,:]  = l1\n",
    "Z[1,:]  = l1\n",
    "Z[2,:]  = l2\n",
    "Z[3,:]  = l3\n",
    "Z[4,:]  = l4\n",
    "Z[5,:]  = l5\n",
    "Z[6,:]  = l6\n",
    "Z[7,:]  = l7\n",
    "Z[8,:]  = l8\n",
    "Z[9,:]  = l9\n",
    "Z[10,:] = l10\n",
    "Z[11,:] = l11\n",
    "Z[12,:] = l12\n",
    "Z[13,:] = l13\n",
    "Z[14,:] = l14\n",
    "Z[15,:] = l15\n",
    "Z[16,:] = l16\n",
    "Z[17,:] = l17\n",
    "Z[18,:] = l18\n",
    "Z[19,:] = l19\n",
    "Z[20,:] = l20\n",
    "Z[21,:] = l21\n",
    "Z[22,:] = l22\n",
    "Z[23,:] = l23\n",
    "Z[24,:] = l24\n",
    "Z[25,:] = l25\n",
    "Z[26,:] = l26\n",
    "Z[27,:] = l27\n",
    "Z[28,:] = l28\n",
    "Z[29,:] = l29\n",
    "Z[30,:] = l29"
   ]
  },
  {
   "cell_type": "code",
   "execution_count": 66,
   "metadata": {},
   "outputs": [
    {
     "data": {
      "text/plain": [
       "array([[3.53613, 3.5409 , 3.54587, 3.55143, 3.55709, 3.56276, 3.56889,\n",
       "        3.57486, 3.58052, 3.58627, 3.59127, 3.59581, 3.5988 , 3.60031,\n",
       "        3.59882, 3.59399, 3.5843 , 3.56705, 3.54121, 3.50175, 3.44579,\n",
       "        3.36897, 3.26482, 3.1286 , 2.95535, 2.73838, 2.47265, 2.21773,\n",
       "        1.98921, 1.73199, 1.73199],\n",
       "       [3.53613, 3.5409 , 3.54587, 3.55143, 3.55709, 3.56276, 3.56889,\n",
       "        3.57486, 3.58052, 3.58627, 3.59127, 3.59581, 3.5988 , 3.60031,\n",
       "        3.59882, 3.59399, 3.5843 , 3.56705, 3.54121, 3.50175, 3.44579,\n",
       "        3.36897, 3.26482, 3.1286 , 2.95535, 2.73838, 2.47265, 2.21773,\n",
       "        1.98921, 1.73199, 1.73199],\n",
       "       [3.53613, 3.54397, 3.55302, 3.56293, 3.57296, 3.58295, 3.59332,\n",
       "        3.60341, 3.61306, 3.62268, 3.63139, 3.63948, 3.64579, 3.65038,\n",
       "        3.65165, 3.6492 , 3.64143, 3.62544, 3.60017, 3.56026, 3.50263,\n",
       "        3.42285, 3.3141 , 3.17145, 2.99055, 2.76462, 2.49435, 2.22458,\n",
       "        1.97686, 1.72687, 1.72687],\n",
       "       [3.53613, 3.54399, 3.55208, 3.56077, 3.56954, 3.57831, 3.58753,\n",
       "        3.59655, 3.60523, 3.61396, 3.62187, 3.62927, 3.63501, 3.63916,\n",
       "        3.64012, 3.63754, 3.62983, 3.61412, 3.58938, 3.55027, 3.4937 ,\n",
       "        3.41523, 3.30796, 3.16684, 2.98738, 2.76267, 2.49286, 2.22322,\n",
       "        1.97546, 1.72686, 1.72686],\n",
       "       [3.53613, 3.54399, 3.55206, 3.56071, 3.56941, 3.5781 , 3.5872 ,\n",
       "        3.5961 , 3.60464, 3.61321, 3.62096, 3.62818, 3.63374, 3.63772,\n",
       "        3.63852, 3.63578, 3.62794, 3.61214, 3.58736, 3.54826, 3.49178,\n",
       "        3.41347, 3.30644, 3.1656 , 2.98645, 2.76205, 2.49233, 2.22272,\n",
       "        1.97498, 1.72682, 1.72682],\n",
       "       [3.53613, 3.54399, 3.55206, 3.56071, 3.56942, 3.57812, 3.58723,\n",
       "        3.59614, 3.60469, 3.61327, 3.62103, 3.62826, 3.63383, 3.63781,\n",
       "        3.63861, 3.63588, 3.62804, 3.61223, 3.58744, 3.54834, 3.49184,\n",
       "        3.41352, 3.30647, 3.16562, 2.98646, 2.76204, 2.49232, 2.22271,\n",
       "        1.97496, 1.72682, 1.72682],\n",
       "       [3.53613, 3.54399, 3.55206, 3.56071, 3.56943, 3.57812, 3.58724,\n",
       "        3.59615, 3.60469, 3.61328, 3.62104, 3.62828, 3.63385, 3.63783,\n",
       "        3.63864, 3.63591, 3.62808, 3.61227, 3.58749, 3.54838, 3.49189,\n",
       "        3.41356, 3.30651, 3.16565, 2.98649, 2.76206, 2.49234, 2.22272,\n",
       "        1.97498, 1.72682, 1.72682],\n",
       "       [3.53613, 3.54399, 3.55206, 3.56071, 3.56943, 3.57812, 3.58724,\n",
       "        3.59615, 3.60469, 3.61328, 3.62104, 3.62828, 3.63385, 3.63783,\n",
       "        3.63864, 3.63591, 3.62808, 3.61228, 3.58749, 3.54838, 3.49189,\n",
       "        3.41356, 3.30651, 3.16565, 2.98649, 2.76206, 2.49234, 2.22272,\n",
       "        1.97498, 1.72682, 1.72682],\n",
       "       [3.53613, 3.54399, 3.55206, 3.56071, 3.56943, 3.57812, 3.58724,\n",
       "        3.59615, 3.60469, 3.61328, 3.62104, 3.62828, 3.63385, 3.63783,\n",
       "        3.63864, 3.63591, 3.62808, 3.61228, 3.58749, 3.54838, 3.49189,\n",
       "        3.41356, 3.30651, 3.16565, 2.98649, 2.76206, 2.49234, 2.22272,\n",
       "        1.97498, 1.72682, 1.72682],\n",
       "       [3.53613, 3.54399, 3.55206, 3.56071, 3.56943, 3.57812, 3.58724,\n",
       "        3.59615, 3.60469, 3.61328, 3.62104, 3.62828, 3.63385, 3.63783,\n",
       "        3.63864, 3.63591, 3.62808, 3.61228, 3.58749, 3.54838, 3.49189,\n",
       "        3.41356, 3.30651, 3.16565, 2.98649, 2.76206, 2.49234, 2.22272,\n",
       "        1.97498, 1.72682, 1.72682],\n",
       "       [3.53613, 3.54399, 3.55206, 3.56071, 3.56943, 3.57812, 3.58724,\n",
       "        3.59615, 3.60469, 3.61328, 3.62104, 3.62828, 3.63385, 3.63783,\n",
       "        3.63864, 3.63591, 3.62808, 3.61228, 3.58749, 3.54838, 3.49189,\n",
       "        3.41356, 3.30651, 3.16565, 2.98649, 2.76206, 2.49234, 2.22272,\n",
       "        1.97498, 1.72682, 1.72682],\n",
       "       [3.53613, 3.54399, 3.55206, 3.56071, 3.56943, 3.57812, 3.58724,\n",
       "        3.59615, 3.60469, 3.61328, 3.62104, 3.62828, 3.63385, 3.63783,\n",
       "        3.63864, 3.63591, 3.62808, 3.61228, 3.58749, 3.54838, 3.49189,\n",
       "        3.41356, 3.30651, 3.16565, 2.98649, 2.76206, 2.49234, 2.22272,\n",
       "        1.97498, 1.72682, 1.72682],\n",
       "       [3.53613, 3.54399, 3.55206, 3.56071, 3.56943, 3.57812, 3.58724,\n",
       "        3.59615, 3.60469, 3.61328, 3.62104, 3.62828, 3.63385, 3.63783,\n",
       "        3.63864, 3.63591, 3.62808, 3.61228, 3.58749, 3.54838, 3.49189,\n",
       "        3.41356, 3.30651, 3.16565, 2.98649, 2.76206, 2.49234, 2.22272,\n",
       "        1.97498, 1.72682, 1.72682],\n",
       "       [3.53613, 3.54399, 3.55206, 3.56071, 3.56943, 3.57812, 3.58724,\n",
       "        3.59615, 3.60469, 3.61328, 3.62104, 3.62828, 3.63385, 3.63783,\n",
       "        3.63864, 3.63591, 3.62808, 3.61228, 3.58749, 3.54838, 3.49189,\n",
       "        3.41356, 3.30651, 3.16565, 2.98649, 2.76206, 2.49234, 2.22272,\n",
       "        1.97498, 1.72682, 1.72682],\n",
       "       [3.53613, 3.54399, 3.55206, 3.56071, 3.56943, 3.57812, 3.58724,\n",
       "        3.59615, 3.60469, 3.61328, 3.62104, 3.62828, 3.63385, 3.63783,\n",
       "        3.63864, 3.63591, 3.62808, 3.61228, 3.58749, 3.54838, 3.49189,\n",
       "        3.41356, 3.30651, 3.16565, 2.98649, 2.76206, 2.49234, 2.22272,\n",
       "        1.97498, 1.72682, 1.72682],\n",
       "       [3.53613, 3.54399, 3.55206, 3.56071, 3.56943, 3.57812, 3.58724,\n",
       "        3.59615, 3.60469, 3.61328, 3.62104, 3.62828, 3.63385, 3.63783,\n",
       "        3.63864, 3.63591, 3.62808, 3.61228, 3.58749, 3.54838, 3.49189,\n",
       "        3.41356, 3.30651, 3.16565, 2.98649, 2.76206, 2.49234, 2.22272,\n",
       "        1.97498, 1.72682, 1.72682],\n",
       "       [3.53613, 3.54399, 3.55206, 3.56071, 3.56943, 3.57812, 3.58724,\n",
       "        3.59615, 3.60469, 3.61328, 3.62104, 3.62828, 3.63385, 3.63783,\n",
       "        3.63864, 3.63591, 3.62808, 3.61228, 3.58749, 3.54838, 3.49189,\n",
       "        3.41356, 3.30651, 3.16565, 2.98649, 2.76206, 2.49234, 2.22272,\n",
       "        1.97498, 1.72682, 1.72682],\n",
       "       [3.53613, 3.54399, 3.55206, 3.56071, 3.56943, 3.57812, 3.58724,\n",
       "        3.59615, 3.60469, 3.61328, 3.62104, 3.62828, 3.63385, 3.63783,\n",
       "        3.63864, 3.63591, 3.62808, 3.61228, 3.58749, 3.54838, 3.49189,\n",
       "        3.41356, 3.30651, 3.16565, 2.98649, 2.76206, 2.49234, 2.22272,\n",
       "        1.97498, 1.72682, 1.72682],\n",
       "       [3.53613, 3.54399, 3.55206, 3.56071, 3.56943, 3.57812, 3.58724,\n",
       "        3.59615, 3.60469, 3.61328, 3.62104, 3.62828, 3.63385, 3.63783,\n",
       "        3.63864, 3.63591, 3.62808, 3.61228, 3.58749, 3.54838, 3.49189,\n",
       "        3.41356, 3.30651, 3.16565, 2.98649, 2.76206, 2.49234, 2.22272,\n",
       "        1.97498, 1.72682, 1.72682],\n",
       "       [3.53613, 3.54399, 3.55206, 3.56071, 3.56943, 3.57812, 3.58724,\n",
       "        3.59615, 3.60469, 3.61328, 3.62104, 3.62828, 3.63385, 3.63783,\n",
       "        3.63864, 3.63591, 3.62808, 3.61228, 3.58749, 3.54838, 3.49189,\n",
       "        3.41356, 3.30651, 3.16565, 2.98649, 2.76206, 2.49234, 2.22272,\n",
       "        1.97498, 1.72682, 1.72682],\n",
       "       [3.53613, 3.54399, 3.55206, 3.56071, 3.56943, 3.57812, 3.58724,\n",
       "        3.59615, 3.60469, 3.61328, 3.62104, 3.62828, 3.63385, 3.63783,\n",
       "        3.63864, 3.63591, 3.62808, 3.61228, 3.58749, 3.54838, 3.49189,\n",
       "        3.41356, 3.30651, 3.16565, 2.98649, 2.76206, 2.49234, 2.22272,\n",
       "        1.97498, 1.72682, 1.72682],\n",
       "       [3.53613, 3.54399, 3.55206, 3.56071, 3.56943, 3.57812, 3.58724,\n",
       "        3.59615, 3.60469, 3.61328, 3.62104, 3.62828, 3.63385, 3.63783,\n",
       "        3.63864, 3.63591, 3.62808, 3.61228, 3.58749, 3.54838, 3.49189,\n",
       "        3.41356, 3.30651, 3.16565, 2.98649, 2.76206, 2.49234, 2.22272,\n",
       "        1.97498, 1.72682, 1.72682],\n",
       "       [3.53613, 3.54399, 3.55206, 3.56071, 3.56943, 3.57812, 3.58724,\n",
       "        3.59615, 3.60469, 3.61328, 3.62104, 3.62828, 3.63385, 3.63783,\n",
       "        3.63864, 3.63591, 3.62808, 3.61227, 3.58749, 3.54838, 3.49189,\n",
       "        3.41356, 3.30651, 3.16565, 2.98649, 2.76206, 2.49234, 2.22272,\n",
       "        1.97498, 1.72682, 1.72682],\n",
       "       [3.53613, 3.54399, 3.55206, 3.56071, 3.56943, 3.57812, 3.58724,\n",
       "        3.59615, 3.60469, 3.61328, 3.62104, 3.62828, 3.63385, 3.63783,\n",
       "        3.63864, 3.63591, 3.62808, 3.61228, 3.58749, 3.54838, 3.49189,\n",
       "        3.41356, 3.30651, 3.16565, 2.98649, 2.76206, 2.49234, 2.22272,\n",
       "        1.97498, 1.72682, 1.72682],\n",
       "       [3.53613, 3.54399, 3.55206, 3.56071, 3.56943, 3.57812, 3.58724,\n",
       "        3.59615, 3.60469, 3.61328, 3.62104, 3.62828, 3.63385, 3.63783,\n",
       "        3.63864, 3.63591, 3.62808, 3.61228, 3.58749, 3.54838, 3.49189,\n",
       "        3.41356, 3.30651, 3.16565, 2.98649, 2.76206, 2.49234, 2.22272,\n",
       "        1.97498, 1.72682, 1.72682],\n",
       "       [3.53613, 3.54399, 3.55206, 3.56071, 3.56942, 3.57812, 3.58723,\n",
       "        3.59614, 3.60469, 3.61327, 3.62103, 3.62826, 3.63383, 3.63781,\n",
       "        3.63861, 3.63588, 3.62804, 3.61223, 3.58744, 3.54834, 3.49184,\n",
       "        3.41352, 3.30647, 3.16562, 2.98646, 2.76204, 2.49232, 2.22271,\n",
       "        1.97496, 1.72681, 1.72682],\n",
       "       [3.53613, 3.54399, 3.55206, 3.56071, 3.56941, 3.5781 , 3.58721,\n",
       "        3.5961 , 3.60464, 3.61321, 3.62096, 3.62818, 3.63374, 3.63772,\n",
       "        3.63852, 3.63578, 3.62795, 3.61214, 3.58736, 3.54826, 3.49178,\n",
       "        3.41347, 3.30644, 3.1656 , 2.98645, 2.76205, 2.49233, 2.22272,\n",
       "        1.97497, 1.72681, 1.72682],\n",
       "       [3.53613, 3.54399, 3.55208, 3.56077, 3.56954, 3.57832, 3.58753,\n",
       "        3.59655, 3.60523, 3.61396, 3.62187, 3.62927, 3.63501, 3.63916,\n",
       "        3.64013, 3.63754, 3.62983, 3.61412, 3.58938, 3.55027, 3.4937 ,\n",
       "        3.41523, 3.30796, 3.16684, 2.98738, 2.76267, 2.49287, 2.22323,\n",
       "        1.97547, 1.72707, 1.72682],\n",
       "       [3.53613, 3.54397, 3.55302, 3.56293, 3.57296, 3.58296, 3.59332,\n",
       "        3.60341, 3.61307, 3.62269, 3.6314 , 3.63948, 3.6458 , 3.6504 ,\n",
       "        3.65167, 3.64922, 3.64145, 3.62546, 3.6002 , 3.56029, 3.50265,\n",
       "        3.42287, 3.31412, 3.17146, 2.99056, 2.76462, 2.49435, 2.22458,\n",
       "        1.97688, 1.72793, 1.72682],\n",
       "       [3.53613, 3.5409 , 3.54586, 3.5514 , 3.55704, 3.56269, 3.56881,\n",
       "        3.57477, 3.58042, 3.58616, 3.59117, 3.59573, 3.59876, 3.60033,\n",
       "        3.59894, 3.59424, 3.58475, 3.56775, 3.54227, 3.50329, 3.44785,\n",
       "        3.37164, 3.26811, 3.13235, 2.95939, 2.74238, 2.47618, 2.2183 ,\n",
       "        1.98474, 1.72657, 1.72682],\n",
       "       [3.53613, 3.5409 , 3.54586, 3.5514 , 3.55704, 3.56269, 3.56881,\n",
       "        3.57477, 3.58042, 3.58616, 3.59117, 3.59573, 3.59876, 3.60033,\n",
       "        3.59894, 3.59424, 3.58475, 3.56775, 3.54227, 3.50329, 3.44785,\n",
       "        3.37164, 3.26811, 3.13235, 2.95939, 2.74238, 2.47618, 2.2183 ,\n",
       "        1.98474, 1.72657, 1.72682]])"
      ]
     },
     "execution_count": 66,
     "metadata": {},
     "output_type": "execute_result"
    }
   ],
   "source": [
    "Z"
   ]
  },
  {
   "cell_type": "code",
   "execution_count": 99,
   "metadata": {},
   "outputs": [
    {
     "data": {
      "text/plain": [
       "Text(5, 2700, '$→Height$')"
      ]
     },
     "execution_count": 99,
     "metadata": {},
     "output_type": "execute_result"
    },
    {
     "data": {
      "image/png": "[encoded data removed]",
      "text/plain": [
       "<Figure size 500x500 with 2 Axes>"
      ]
     },
     "metadata": {},
     "output_type": "display_data"
    }
   ],
   "source": [
    "plt.figure(num=1,figsize = (5,5), facecolor=None)\n",
    "plt.pcolormesh(X, Y, Z, cmap='jet_r',alpha=0.7)\n",
    "plt.colorbar(extend='max')\n",
    "plt.xlim(0,300)\n",
    "plt.ylim(0,3000)\n",
    "plt.xticks([0,50,100,150,200,250,300],fontproperties = 'Times New Roman',size = 13)\n",
    "plt.yticks([0,500,1000,1500,2000,2500,3000],fontproperties = 'Times New Roman',size = 13)\n",
    "plt.xlabel('$X(m)$',size=18)\n",
    "plt.ylabel('$y(m)$',size=18)\n",
    "plt.text(5, 300, '$→Height$',fontsize=15)\n",
    "plt.text(5, 1450, '$→Height$',fontsize=15)\n",
    "plt.text(5, 2700, '$→Height$',fontsize=15)"
   ]
  },
  {
   "cell_type": "code",
   "execution_count": 77,
   "metadata": {},
   "outputs": [
    {
     "data": {
      "text/plain": [
       "(1024, 1024)"
      ]
     },
     "execution_count": 77,
     "metadata": {},
     "output_type": "execute_result"
    }
   ],
   "source": [
    "data2d.shape"
   ]
  },
  {
   "cell_type": "code",
   "execution_count": 78,
   "metadata": {},
   "outputs": [
    {
     "data": {
      "image/png": "[encoded data removed]",
      "text/plain": [
       "<Figure size 640x480 with 2 Axes>"
      ]
     },
     "metadata": {},
     "output_type": "display_data"
    }
   ],
   "source": [
    "\n",
    "t = np.linspace(0, 2 * np.pi, 1024)\n",
    "data2d = np.sin(t)[:, np.newaxis] * np.cos(t)[np.newaxis, :]\n",
    "\n",
    "fig, ax = plt.subplots()\n",
    "im = ax.imshow(Z)\n",
    "ax.set_title('Pan on the colorbar to shift the color mapping\\n'\n",
    "             'Zoom on the colorbar to scale the color mapping')\n",
    "\n",
    "fig.colorbar(im, ax=ax, label='Interactive colorbar')\n",
    "\n",
    "plt.show()"
   ]
  }
 ],
 "metadata": {
  "kernelspec": {
   "display_name": "jaxCFD",
   "language": "python",
   "name": "python3"
  },
  "language_info": {
   "codemirror_mode": {
    "name": "ipython",
    "version": 3
   },
   "file_extension": ".py",
   "mimetype": "text/x-python",
   "name": "python",
   "nbconvert_exporter": "python",
   "pygments_lexer": "ipython3",
   "version": "3.9.16"
  },
  "orig_nbformat": 4
 },
 "nbformat": 4,
 "nbformat_minor": 2
}
